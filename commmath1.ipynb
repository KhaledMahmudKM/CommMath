{
 "cells": [
  {
   "cell_type": "markdown",
   "metadata": {},
   "source": [
    "## Communication Math \n",
    "##### Khaled Mahmud\n",
    "****\n",
    "### Power Calculation"
   ]
  },
  {
   "cell_type": "markdown",
   "metadata": {},
   "source": [
    "****\n",
    "### Q1. \n",
    "What is the received power in mW and dBm?\n",
    "\n",
    "<img src=\"images/power1.png\"> "
   ]
  },
  {
   "cell_type": "markdown",
   "metadata": {},
   "source": [
    "### Solution\n",
    "<u>At point A:</u>\n",
    "\n",
    "$\n",
    "P_{A,\\ dB}=P_{TX,\\ dB}\\\\\n",
    "P_{TX} = 8 W\\\\\n",
    "$\n",
    "\n",
    "Using the conversion formaula for linear power to dB power,\n",
    "\n",
    "$\n",
    "P_{TX,\\ dB}= 10log_{10}(P_{TX})\\\\\n",
    "= 10log_{10}(8000)\\\\\n",
    "=39\\ dBm\n",
    "$\n",
    "\n",
    "<u>At point B:</u>\n",
    "\n",
    "$\n",
    "P_{RX,\\ dB}=P_{B,\\ dB}\\\\\n",
    "P_{B,\\ dB} = P_{A,\\ dB}+L_{Ch}\\\\\n",
    "=39+ (-6)\\\\\n",
    "=33\\ dBm\n",
    "$\n",
    "\n",
    "Using the conversion formaula for dB power to linear power,\n",
    "\n",
    "$\n",
    "P_{RX}=(10)^{\\frac{P_{RX,\\ dB}}{10}}\\\\\n",
    "=(10)^{\\frac{33}{10}}\\\\\n",
    "=2000\\ mW\n",
    "$"
   ]
  },
  {
   "cell_type": "markdown",
   "metadata": {},
   "source": [
    "****\n",
    "### Q2. \n",
    "Refer to the following diagram of a communication system. Calculate power values at various stages as indicated. \n",
    "<img src=\"images/power2.png\"> "
   ]
  },
  {
   "cell_type": "markdown",
   "metadata": {},
   "source": [
    "### Solution\n",
    "\n",
    "First, let's calculate power value at A in dBm.\n",
    "\n",
    "$\n",
    "P_A=10log_{10}(2)\\\\\n",
    "=33\\ dBm \n",
    "$\n",
    "\n",
    "<u>At point B:</u>\n",
    "\n",
    "$\n",
    "P_B=P_A+(-5)\\ dBm\\\\\n",
    "=33-5\\ dBm\\\\\n",
    "=28\\ dBm\n",
    "$\n",
    "\n",
    "\n",
    "<u>At point C:</u>\n",
    "\n",
    "$\n",
    "P_C=28+(7)\\ dBm\\\\\n",
    "=35\\\\ dBm\n",
    "$\n",
    "\n",
    "\n",
    "<u>At point D:</u>\n",
    "$\n",
    "P_D=P_C+(-50)\\ dBm\\\\\n",
    "=35-50\\ dBm\\\\\n",
    "=-15\\ dBm\n",
    "$\n",
    "\n",
    "<u>At point E:</u>\n",
    "\n",
    "$\n",
    "P_E=P_D+(2)\\ dBm\\\\\n",
    "=-15+2\\ dBm\\\\\n",
    "=-13\\ dBm\n",
    "$\n",
    "\n",
    "$\n",
    "Received\\ power= P_E\\\\\n",
    "=-13\\ dBm\\\\\n",
    "=(1/10)(1/2)\\ mW\\\\\n",
    "=0.05\\ mW\n",
    "$\n",
    "\n"
   ]
  },
  {
   "cell_type": "markdown",
   "metadata": {},
   "source": [
    "****\n",
    "[Back to Index](commmathindex.html)<br>"
   ]
  }
 ],
 "metadata": {
  "anaconda-cloud": {},
  "kernelspec": {
   "display_name": "Python 3",
   "language": "python",
   "name": "python3"
  },
  "language_info": {
   "codemirror_mode": {
    "name": "ipython",
    "version": 3
   },
   "file_extension": ".py",
   "mimetype": "text/x-python",
   "name": "python",
   "nbconvert_exporter": "python",
   "pygments_lexer": "ipython3",
   "version": "3.8.5"
  }
 },
 "nbformat": 4,
 "nbformat_minor": 1
}
